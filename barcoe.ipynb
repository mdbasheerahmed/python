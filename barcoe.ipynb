{
 "cells": [
  {
   "cell_type": "code",
   "execution_count": 6,
   "metadata": {},
   "outputs": [
    {
     "data": {
      "image/png": "[encoded data removed]",
      "text/plain": [
       "<IPython.core.display.Image object>"
      ]
     },
     "metadata": {},
     "output_type": "display_data"
    }
   ],
   "source": [
    "# pip install python_barcode\n",
    "# pip install pillow\n",
    "import barcode\n",
    "from barcode.writer import ImageWriter\n",
    "from IPython.display import Image, display\n",
    "\n",
    "barcode_format = barcode.get_barcode_class('ean13')\n",
    "\n",
    "barcode_number = '1234567895840'\n",
    "\n",
    "barcode_image = barcode_format(barcode_number, writer=ImageWriter())\n",
    "\n",
    "barcode_filename = 'barcode_image'\n",
    "barcode_image.save(barcode_filename)\n",
    "\n",
    "display(Image(filename=f'{barcode_filename}.png'))"
   ]
  },
  {
   "cell_type": "code",
   "execution_count": 7,
   "metadata": {},
   "outputs": [],
   "source": [
    "import pandas as pd"
   ]
  }
 ],
 "metadata": {
  "kernelspec": {
   "display_name": "base",
   "language": "python",
   "name": "python3"
  },
  "language_info": {
   "codemirror_mode": {
    "name": "ipython",
    "version": 3
   },
   "file_extension": ".py",
   "mimetype": "text/x-python",
   "name": "python",
   "nbconvert_exporter": "python",
   "pygments_lexer": "ipython3",
   "version": "3.7.4"
  }
 },
 "nbformat": 4,
 "nbformat_minor": 2
}
